{
 "cells": [
  {
   "cell_type": "code",
   "execution_count": 7,
   "metadata": {},
   "outputs": [
    {
     "name": "stdout",
     "output_type": "stream",
     "text": [
      "          OriginalDate        ProcessedDate\n",
      "0  2023-01-01 00:00:00  2023-01-01 00:00:00\n",
      "1  2023-01-02 00:00:00  2023-01-02 00:00:00\n",
      "2                  NaT  2023-03-15 00:00:00\n",
      "3  2023-01-04 00:00:00  2023-01-04 00:00:00\n",
      "4                error  2023-03-15 00:00:00\n",
      "5  2023-01-06 00:00:00  2023-01-06 00:00:00\n",
      "6  2023-01-07 00:00:00  2023-01-07 00:00:00\n",
      "7  2023-01-08 00:00:00  2023-01-08 00:00:00\n",
      "8  2023-01-09 00:00:00  2023-01-09 00:00:00\n",
      "9  2023-01-10 00:00:00  2023-01-10 00:00:00\n"
     ]
    }
   ],
   "source": [
    "import pandas as pd\n",
    "import numpy as np\n",
    "from datetime import datetime, timedelta\n",
    "import sqlite3\n",
    "import os\n",
    "\n",
    "# Create sample time series data\n",
    "date_rng = pd.date_range(start='2023-01-01', end='2023-01-10', freq='D')\n",
    "data = {\n",
    "    \"date\": date_rng,\n",
    "    \"value\": np.random.randint(0, 100, size=(len(date_rng)))\n",
    "}\n",
    "df = pd.DataFrame(data)\n",
    "df.loc[2, 'date'] = pd.NaT  # Introduce a NaT value\n",
    "df.loc[4, 'date'] = 'error'  # Introduce an error value\n",
    "\n",
    "# Convert the date column to string format\n",
    "df['date'] = df['date'].astype(str)\n",
    "\n",
    "# Set the SQLite database file path\n",
    "db_path = os.path.join(os.path.expanduser('~'), 'test_db.sqlite')\n",
    "\n",
    "# Save DataFrame to SQLite\n",
    "con = sqlite3.connect(db_path)\n",
    "df.to_sql('sample_data', con, if_exists='replace', index=False)\n",
    "\n",
    "# SQL query\n",
    "query = \"\"\"\n",
    "SELECT\n",
    "  date AS OriginalDate,\n",
    "  COALESCE(\n",
    "    CASE\n",
    "      WHEN date = 'NaT' THEN NULL\n",
    "      WHEN (substr(date, 5, 1) = '-' AND substr(date, 8, 1) = '-') OR length(date) = 19 THEN date\n",
    "      ELSE NULL\n",
    "    END,\n",
    "    datetime(DATE('now'), 'start of day')\n",
    "  ) AS ProcessedDate\n",
    "FROM sample_data;\n",
    "\"\"\"\n",
    "\n",
    "# Read query results and display side by side\n",
    "result_df = pd.read_sql_query(query, con)\n",
    "print(result_df)\n",
    "\n",
    "con.close()\n"
   ]
  }
 ],
 "metadata": {
  "kernelspec": {
   "display_name": "My Environment",
   "language": "python",
   "name": "myenv"
  },
  "language_info": {
   "codemirror_mode": {
    "name": "ipython",
    "version": 3
   },
   "file_extension": ".py",
   "mimetype": "text/x-python",
   "name": "python",
   "nbconvert_exporter": "python",
   "pygments_lexer": "ipython3",
   "version": "3.8.8"
  },
  "orig_nbformat": 4
 },
 "nbformat": 4,
 "nbformat_minor": 2
}
